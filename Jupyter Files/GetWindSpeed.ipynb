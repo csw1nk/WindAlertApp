{
 "cells": [
  {
   "cell_type": "code",
   "execution_count": 11,
   "id": "a745856e",
   "metadata": {},
   "outputs": [],
   "source": [
    "import configparser\n",
    "import requests\n",
    "import time"
   ]
  },
  {
   "cell_type": "code",
   "execution_count": 12,
   "id": "cd51d6f6",
   "metadata": {},
   "outputs": [],
   "source": [
    "config = configparser.ConfigParser()\n",
    "config.read('../config.ini') \n",
    "API_KEY = config['DEFAULT']['API_KEY']"
   ]
  },
  {
   "cell_type": "code",
   "execution_count": 13,
   "id": "590707dd",
   "metadata": {},
   "outputs": [],
   "source": [
    "LAT = '42.708720'\n",
    "LON = '-83.214720'\n",
    "URL = f'https://api.openweathermap.org/data/2.5/weather?lat={LAT}&lon={LON}&appid={API_KEY}&units=imperial'"
   ]
  },
  {
   "cell_type": "code",
   "execution_count": 14,
   "id": "2e32228a",
   "metadata": {},
   "outputs": [],
   "source": [
    "def get_wind_speed():\n",
    "    response = requests.get(URL)\n",
    "    data = response.json()\n",
    "    wind_speed = data['wind']['speed']  # Wind speed in miles per hour\n",
    "    return wind_speed"
   ]
  },
  {
   "cell_type": "code",
   "execution_count": 15,
   "id": "f976f217",
   "metadata": {},
   "outputs": [
    {
     "name": "stdout",
     "output_type": "stream",
     "text": [
      "Current wind speed: 10.36 mph\n"
     ]
    }
   ],
   "source": [
    "wind_speed = get_wind_speed()\n",
    "print(f\"Current wind speed: {wind_speed} mph\")"
   ]
  },
  {
   "cell_type": "code",
   "execution_count": null,
   "id": "5aa0d58a",
   "metadata": {},
   "outputs": [],
   "source": []
  }
 ],
 "metadata": {
  "kernelspec": {
   "display_name": "Python 3 (ipykernel)",
   "language": "python",
   "name": "python3"
  },
  "language_info": {
   "codemirror_mode": {
    "name": "ipython",
    "version": 3
   },
   "file_extension": ".py",
   "mimetype": "text/x-python",
   "name": "python",
   "nbconvert_exporter": "python",
   "pygments_lexer": "ipython3",
   "version": "3.10.13"
  }
 },
 "nbformat": 4,
 "nbformat_minor": 5
}
