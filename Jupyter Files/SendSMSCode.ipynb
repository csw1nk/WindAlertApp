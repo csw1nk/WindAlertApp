{
 "cells": [
  {
   "cell_type": "code",
   "execution_count": 13,
   "id": "a614cc95",
   "metadata": {},
   "outputs": [],
   "source": [
    "import smtplib\n",
    "from email.mime.text import MIMEText\n",
    "import configparser"
   ]
  },
  {
   "cell_type": "code",
   "execution_count": 14,
   "id": "0724bce7",
   "metadata": {},
   "outputs": [],
   "source": [
    "# Setup to read config file\n",
    "config = configparser.ConfigParser()\n",
    "config.read('../config.ini')\n",
    "API_KEY = config['DEFAULT']['API_KEY']\n",
    "EMAIL = config['EMAIL']['EMAIL']\n",
    "APP_PASSWORD = config['EMAIL']['APP_PASSWORD']"
   ]
  },
  {
   "cell_type": "code",
   "execution_count": 15,
   "id": "d107c42e",
   "metadata": {},
   "outputs": [],
   "source": [
    "def send_sms_via_email(recipient_number, carrier_gateway, message):\n",
    "    smtp_server = \"smtp.gmail.com\"\n",
    "    smtp_port = 587  # Use TLS\n",
    "\n",
    "    # Create MIMEText object\n",
    "    msg = MIMEText(message)\n",
    "    msg['Subject'] = \"Wind Alert\"\n",
    "    msg['From'] = EMAIL\n",
    "    msg['To'] = f\"{recipient_number}@{carrier_gateway}\"\n",
    "\n",
    "    # Establish a secure session with Gmail's outgoing SMTP server\n",
    "    server = smtplib.SMTP(smtp_server, smtp_port)\n",
    "    server.starttls()  # Secure the connection\n",
    "    server.login(EMAIL, APP_PASSWORD)  # Log in to the server\n",
    "    server.sendmail(EMAIL, msg['To'], msg.as_string())  # Send the email\n",
    "    server.quit()  # Logout of the server"
   ]
  },
  {
   "cell_type": "code",
   "execution_count": 17,
   "id": "e7b2a7f4",
   "metadata": {},
   "outputs": [],
   "source": [
    "# Send SMS to Corey\n",
    "send_sms_via_email(\"2485055521\", \"vtext.com\", \"Hello from Python script!\")\n",
    "\n",
    "# Send SMS to Corey's wife\n",
    "send_sms_via_email(\"5866126796\", \"vtext.com\", \"Hello from Python script!\")"
   ]
  },
  {
   "cell_type": "code",
   "execution_count": null,
   "id": "5d0036e1",
   "metadata": {},
   "outputs": [],
   "source": []
  }
 ],
 "metadata": {
  "kernelspec": {
   "display_name": "Python 3 (ipykernel)",
   "language": "python",
   "name": "python3"
  },
  "language_info": {
   "codemirror_mode": {
    "name": "ipython",
    "version": 3
   },
   "file_extension": ".py",
   "mimetype": "text/x-python",
   "name": "python",
   "nbconvert_exporter": "python",
   "pygments_lexer": "ipython3",
   "version": "3.10.13"
  }
 },
 "nbformat": 4,
 "nbformat_minor": 5
}
